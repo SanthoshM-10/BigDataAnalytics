{
 "cells": [
  {
   "cell_type": "markdown",
   "id": "aa27011f-0207-45c8-8b49-e5d42f532361",
   "metadata": {},
   "source": [
    "# Data Transformation like filtering even numbers using PySpark"
   ]
  },
  {
   "cell_type": "code",
   "execution_count": 1,
   "id": "5c88ce2f-ce39-4acd-ac50-abc4e0cbe1af",
   "metadata": {},
   "outputs": [
    {
     "data": {
      "text/html": [
       "\n",
       "        <div>\n",
       "            <p><b>SparkContext</b></p>\n",
       "\n",
       "            <p><a href=\"http://Santhosh:4042\">Spark UI</a></p>\n",
       "\n",
       "            <dl>\n",
       "              <dt>Version</dt>\n",
       "                <dd><code>v4.0.1</code></dd>\n",
       "              <dt>Master</dt>\n",
       "                <dd><code>local[*]</code></dd>\n",
       "              <dt>AppName</dt>\n",
       "                <dd><code>PySparkShell</code></dd>\n",
       "            </dl>\n",
       "        </div>\n",
       "        "
      ],
      "text/plain": [
       "<SparkContext master=local[*] appName=PySparkShell>"
      ]
     },
     "execution_count": 1,
     "metadata": {},
     "output_type": "execute_result"
    }
   ],
   "source": [
    "sc"
   ]
  },
  {
   "cell_type": "code",
   "execution_count": 2,
   "id": "fa7a77fd-80c0-437e-a7ab-52ce70d49a08",
   "metadata": {},
   "outputs": [],
   "source": [
    "import random"
   ]
  },
  {
   "cell_type": "code",
   "execution_count": 3,
   "id": "4667e9ac-d7a9-4e07-b14b-422d7a1c3de4",
   "metadata": {},
   "outputs": [
    {
     "name": "stdout",
     "output_type": "stream",
     "text": [
      "Original List:\n",
      "[646, 211, 815, 270, 581, 539, 126, 101, 12, 29, 864, 605, 502, 785, 952, 714, 204, 655, 27, 527, 429, 126, 375, 210, 702, 500, 275, 65, 224, 609, 338, 176, 898, 249, 271, 609, 483, 851, 281, 408, 171, 572, 401, 619, 425, 95, 69, 721, 567, 374, 458, 543, 852, 344, 218, 488, 574, 492, 162, 964, 623, 662, 903, 913, 952, 403, 116, 567, 682, 593, 921, 741, 497, 626, 473, 112, 663, 261, 753, 370, 767, 881, 456, 73, 124, 930, 419, 292, 909, 354, 976, 598, 988, 818, 363, 49, 401, 70, 708, 564]\n"
     ]
    }
   ],
   "source": [
    "random_numbers = [random.randint(1, 1000) for _ in range(100)]\n",
    "print(\"Original List:\")\n",
    "print(random_numbers)"
   ]
  },
  {
   "cell_type": "code",
   "execution_count": 4,
   "id": "841cf2c6-f8ef-4956-aefe-7725a8ef1115",
   "metadata": {},
   "outputs": [],
   "source": [
    "numbers_rdd = sc.parallelize(random_numbers)"
   ]
  },
  {
   "cell_type": "code",
   "execution_count": 5,
   "id": "e63ce543-ed30-4718-a588-07824919db5c",
   "metadata": {},
   "outputs": [],
   "source": [
    "even_numbers_rdd = numbers_rdd.filter(lambda x: x % 2 == 0)"
   ]
  },
  {
   "cell_type": "code",
   "execution_count": 6,
   "id": "99fa8852-52b7-4a9e-9cd7-887f1d9c88fd",
   "metadata": {},
   "outputs": [
    {
     "name": "stdout",
     "output_type": "stream",
     "text": [
      "\n",
      "Even Numbers:\n",
      "[646, 270, 126, 12, 864, 502, 952, 714, 204, 126, 210, 702, 500, 224, 338, 176, 898, 408, 572, 374, 458, 852, 344, 218, 488, 574, 492, 162, 964, 662, 952, 116, 682, 626, 112, 370, 456, 124, 930, 292, 354, 976, 598, 988, 818, 70, 708, 564]\n"
     ]
    }
   ],
   "source": [
    "even_numbers = even_numbers_rdd.collect()\n",
    "print(\"\\nEven Numbers:\")\n",
    "print(even_numbers)"
   ]
  },
  {
   "cell_type": "code",
   "execution_count": null,
   "id": "a014fc67-ea58-4e9f-a9df-c9b3c97352fd",
   "metadata": {},
   "outputs": [],
   "source": []
  }
 ],
 "metadata": {
  "kernelspec": {
   "display_name": "Python 3 (ipykernel)",
   "language": "python",
   "name": "python3"
  },
  "language_info": {
   "codemirror_mode": {
    "name": "ipython",
    "version": 3
   },
   "file_extension": ".py",
   "mimetype": "text/x-python",
   "name": "python",
   "nbconvert_exporter": "python",
   "pygments_lexer": "ipython3",
   "version": "3.10.9"
  }
 },
 "nbformat": 4,
 "nbformat_minor": 5
}
